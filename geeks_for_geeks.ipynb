{
 "cells": [
  {
   "cell_type": "code",
   "execution_count": 18,
   "metadata": {},
   "outputs": [
    {
     "name": "stdout",
     "output_type": "stream",
     "text": [
      "10 20 4 30\n",
      "20\n",
      "10 4 30  \n"
     ]
    }
   ],
   "source": [
    "# Delete without head pointer \n",
    "class Node:\n",
    "    def __init__(self,data):\n",
    "        self.data=data\n",
    "        self.next=None\n",
    "class LinkedList:\n",
    "    def __init__(self):\n",
    "        self.head=None\n",
    "        self.tail=None\n",
    "    def append(self,value):\n",
    "        new_value=Node(value)\n",
    "        if self.head is None:\n",
    "            self.head= new_value\n",
    "            self.tail= new_value\n",
    "            return\n",
    "        self.tail.next=new_value\n",
    "        self.tail=new_value\n",
    "    def getNode(self,value):\n",
    "        curr_node=self.head\n",
    "        while curr_node.next and curr_node.data != value:\n",
    "            curr_node=curr_node.next\n",
    "        if curr_node.data==value:\n",
    "            return curr_node\n",
    "        else:\n",
    "            return None  \n",
    "    def printList(self):\n",
    "        if self.head is None:\n",
    "            print(' ')\n",
    "            return\n",
    "        curr_node=self.head\n",
    "        while curr_node:\n",
    "            print(curr_node.data,end=\" \")\n",
    "            curr_node= curr_node.next\n",
    "        print(' ')  \n",
    "    def deleteNode(self,value):\n",
    "        curr=self.head\n",
    "        prev=None\n",
    "        if self.head.data==value:\n",
    "            self.head =self.head.next\n",
    "            return\n",
    "        while curr.next is not None:\n",
    "            if curr.data == value and prev is not None:\n",
    "                prev.next=curr.next\n",
    "                return value\n",
    "            prev=curr\n",
    "            curr=curr.next\n",
    "        return None          \n",
    "a=LinkedList()\n",
    "# n=int(input())        \n",
    "nodes=[int(x) for x in input().split()]\n",
    "for i in nodes:\n",
    "    a.append(i)\n",
    "to_del=int(input())    \n",
    "a.deleteNode(to_del)\n",
    "a.printList()\n",
    "# 10 20 4 30\n",
    "# 20"
   ]
  }
 ],
 "metadata": {
  "kernelspec": {
   "display_name": "Python 3",
   "language": "python",
   "name": "python3"
  },
  "language_info": {
   "codemirror_mode": {
    "name": "ipython",
    "version": 3
   },
   "file_extension": ".py",
   "mimetype": "text/x-python",
   "name": "python",
   "nbconvert_exporter": "python",
   "pygments_lexer": "ipython3",
   "version": "3.7.3"
  }
 },
 "nbformat": 4,
 "nbformat_minor": 2
}
