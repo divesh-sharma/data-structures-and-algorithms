{
 "cells": [
  {
   "cell_type": "code",
   "execution_count": 2,
   "metadata": {},
   "outputs": [
    {
     "name": "stdout",
     "output_type": "stream",
     "text": [
      "3\n",
      "3\n",
      "2\n",
      "1\n"
     ]
    }
   ],
   "source": [
    "def tailRecursion(n):\n",
    "    if n>0:\n",
    "        print(n)\n",
    "        tailRecursion(n-1)\n",
    "    return\n",
    "n=int(input())\n",
    "tailRecursion(n)"
   ]
  },
  {
   "cell_type": "code",
   "execution_count": 16,
   "metadata": {},
   "outputs": [
    {
     "name": "stdout",
     "output_type": "stream",
     "text": [
      "4\n",
      "1\n",
      "2\n",
      "3\n",
      "4\n"
     ]
    }
   ],
   "source": [
    "def headRecursion(n):\n",
    "    if n>0:\n",
    "        headRecursion(n-1)\n",
    "        print(n)\n",
    "    return\n",
    "n=int(input())\n",
    "headRecursion(n)"
   ]
  },
  {
   "cell_type": "code",
   "execution_count": 68,
   "metadata": {},
   "outputs": [
    {
     "name": "stdout",
     "output_type": "stream",
     "text": [
      "3\n",
      "3 2 1 1 2 1 1 None\n"
     ]
    }
   ],
   "source": [
    "def treeRecursion(n):\n",
    "    if n>0:\n",
    "        print(n,end=\" \")\n",
    "        treeRecursion(n-1)\n",
    "        treeRecursion(n-1)\n",
    "n=int(input())\n",
    "print(treeRecursion(n))"
   ]
  },
  {
   "cell_type": "code",
   "execution_count": 69,
   "metadata": {},
   "outputs": [
    {
     "name": "stdout",
     "output_type": "stream",
     "text": [
      "20\n",
      "19\n",
      "9\n",
      "8\n",
      "4\n",
      "3\n",
      "1\n"
     ]
    }
   ],
   "source": [
    "# indirect Recursion\n",
    "def funB(n):\n",
    "    if n>1:\n",
    "        print(n)\n",
    "        funA(n//2)\n",
    "def funA(n):\n",
    "    if n>0:\n",
    "        print(n)\n",
    "        funB(n-1)\n",
    "funA(20)"
   ]
  },
  {
   "cell_type": "code",
   "execution_count": 73,
   "metadata": {},
   "outputs": [
    {
     "data": {
      "text/plain": [
       "91"
      ]
     },
     "execution_count": 73,
     "metadata": {},
     "output_type": "execute_result"
    }
   ],
   "source": [
    "def nestedRecursion(n):\n",
    "    if n>100:\n",
    "        return n-10\n",
    "    return nestedRecursion(nestedRecursion(n+11))\n",
    "nestedRecursion(30)"
   ]
  },
  {
   "cell_type": "code",
   "execution_count": 80,
   "metadata": {},
   "outputs": [
    {
     "data": {
      "text/plain": [
       "15"
      ]
     },
     "execution_count": 80,
     "metadata": {},
     "output_type": "execute_result"
    }
   ],
   "source": [
    "def sumFirstNnaturalRecursive(n):\n",
    "    if n==0:\n",
    "        return 0\n",
    "    return sumFirstNnaturalRecursive(n-1)+n\n",
    "\n",
    "def sumFirstNnaturalIterative(n):\n",
    "    s=0\n",
    "    for i in range(1,n+1):\n",
    "        s+=i\n",
    "    return s\n",
    "sumFirstNnaturalIterative(5)\n",
    "\n",
    "# sumFirstNnaturalRecursive(5)"
   ]
  },
  {
   "cell_type": "code",
   "execution_count": 66,
   "metadata": {},
   "outputs": [
    {
     "name": "stdout",
     "output_type": "stream",
     "text": [
      "15\n"
     ]
    }
   ],
   "source": [
    "def fun(n):\n",
    "    if n>0:\n",
    "        return fun(n-1)+n\n",
    "    else:\n",
    "        return 0         \n",
    "def globalStatic():\n",
    "    r=fun(5)\n",
    "    print(r)\n",
    "globalStatic()    "
   ]
  }
 ],
 "metadata": {
  "kernelspec": {
   "display_name": "Python 3",
   "language": "python",
   "name": "python3"
  },
  "language_info": {
   "codemirror_mode": {
    "name": "ipython",
    "version": 3
   },
   "file_extension": ".py",
   "mimetype": "text/x-python",
   "name": "python",
   "nbconvert_exporter": "python",
   "pygments_lexer": "ipython3",
   "version": "3.7.3"
  }
 },
 "nbformat": 4,
 "nbformat_minor": 2
}
