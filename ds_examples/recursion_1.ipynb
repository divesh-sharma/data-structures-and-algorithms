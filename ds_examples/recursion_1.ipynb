{
 "cells": [
  {
   "cell_type": "code",
   "execution_count": 2,
   "metadata": {},
   "outputs": [
    {
     "name": "stdout",
     "output_type": "stream",
     "text": [
      "3\n",
      "3\n",
      "2\n",
      "1\n"
     ]
    }
   ],
   "source": [
    "def tailRecursion(n):\n",
    "    if n>0:\n",
    "        print(n)\n",
    "        tailRecursion(n-1)\n",
    "    return\n",
    "n=int(input())\n",
    "tailRecursion(n)"
   ]
  },
  {
   "cell_type": "code",
   "execution_count": 16,
   "metadata": {},
   "outputs": [
    {
     "name": "stdout",
     "output_type": "stream",
     "text": [
      "4\n",
      "1\n",
      "2\n",
      "3\n",
      "4\n"
     ]
    }
   ],
   "source": [
    "def headRecursion(n):\n",
    "    if n>0:\n",
    "        headRecursion(n-1)\n",
    "        print(n)\n",
    "    return\n",
    "n=int(input())\n",
    "headRecursion(n)"
   ]
  },
  {
   "cell_type": "code",
   "execution_count": 68,
   "metadata": {},
   "outputs": [
    {
     "name": "stdout",
     "output_type": "stream",
     "text": [
      "3\n",
      "3 2 1 1 2 1 1 None\n"
     ]
    }
   ],
   "source": [
    "def treeRecursion(n):\n",
    "    if n>0:\n",
    "        print(n,end=\" \")\n",
    "        treeRecursion(n-1)\n",
    "        treeRecursion(n-1)\n",
    "n=int(input())\n",
    "print(treeRecursion(n))"
   ]
  },
  {
   "cell_type": "code",
   "execution_count": 69,
   "metadata": {},
   "outputs": [
    {
     "name": "stdout",
     "output_type": "stream",
     "text": [
      "20\n",
      "19\n",
      "9\n",
      "8\n",
      "4\n",
      "3\n",
      "1\n"
     ]
    }
   ],
   "source": [
    "# indirect Recursion\n",
    "def funB(n):\n",
    "    if n>1:\n",
    "        print(n)\n",
    "        funA(n//2)\n",
    "def funA(n):\n",
    "    if n>0:\n",
    "        print(n)\n",
    "        funB(n-1)\n",
    "funA(20)"
   ]
  },
  {
   "cell_type": "code",
   "execution_count": 73,
   "metadata": {},
   "outputs": [
    {
     "data": {
      "text/plain": [
       "91"
      ]
     },
     "execution_count": 73,
     "metadata": {},
     "output_type": "execute_result"
    }
   ],
   "source": [
    "def nestedRecursion(n):\n",
    "    if n>100:\n",
    "        return n-10\n",
    "    return nestedRecursion(nestedRecursion(n+11))\n",
    "nestedRecursion(30)"
   ]
  },
  {
   "cell_type": "code",
   "execution_count": 80,
   "metadata": {},
   "outputs": [
    {
     "data": {
      "text/plain": [
       "15"
      ]
     },
     "execution_count": 80,
     "metadata": {},
     "output_type": "execute_result"
    }
   ],
   "source": [
    "def sumFirstNnaturalRecursive(n):\n",
    "    if n==0:\n",
    "        return 0\n",
    "    return sumFirstNnaturalRecursive(n-1)+n\n",
    "\n",
    "def sumFirstNnaturalIterative(n):\n",
    "    s=0\n",
    "    for i in range(1,n+1):\n",
    "        s+=i\n",
    "    return s\n",
    "sumFirstNnaturalIterative(5)\n",
    "\n",
    "# sumFirstNnaturalRecursive(5)"
   ]
  },
  {
   "cell_type": "code",
   "execution_count": 66,
   "metadata": {},
   "outputs": [
    {
     "name": "stdout",
     "output_type": "stream",
     "text": [
      "15\n"
     ]
    }
   ],
   "source": [
    "def fun(n):\n",
    "    if n>0:\n",
    "        return fun(n-1)+n\n",
    "    else:\n",
    "        return 0         \n",
    "def globalStatic():\n",
    "    r=fun(5)\n",
    "    print(r)\n",
    "globalStatic()    "
   ]
  },
  {
   "cell_type": "code",
   "execution_count": 7,
   "metadata": {},
   "outputs": [
    {
     "data": {
      "text/plain": [
       "120"
      ]
     },
     "execution_count": 7,
     "metadata": {},
     "output_type": "execute_result"
    }
   ],
   "source": [
    "def factorialRec(n):\n",
    "    if n==0:\n",
    "        return 1\n",
    "    else:\n",
    "        return factorialRec(n-1)*n\n",
    "    \n",
    "def factorialIter(n):\n",
    "    fac=1\n",
    "    for i in range(1,n+1):\n",
    "        fac*=i\n",
    "    return fac\n",
    "factorialIter(5)    "
   ]
  },
  {
   "cell_type": "code",
   "execution_count": 17,
   "metadata": {},
   "outputs": [
    {
     "data": {
      "text/plain": [
       "729"
      ]
     },
     "execution_count": 17,
     "metadata": {},
     "output_type": "execute_result"
    }
   ],
   "source": [
    "def powerRec(m,n):\n",
    "    if n==0:\n",
    "        return 1\n",
    "    else:\n",
    "        return powerRec(m,n-1)\n",
    "def powerRecOptimised(m,n):\n",
    "    if n==0:\n",
    "        return 1\n",
    "    if n%2==0:\n",
    "        return powerRecOptimised(m*m,n//2)\n",
    "    else:\n",
    "        return m*powerRecOptimised(m*m,((n-1)//2))\n",
    "def powerItr(m,n):\n",
    "    pw=1\n",
    "    i=0\n",
    "    while i<n:\n",
    "        pw=pw*m\n",
    "        i+=1\n",
    "    return pw\n",
    "powerItr(9,3)    "
   ]
  },
  {
   "cell_type": "code",
   "execution_count": 50,
   "metadata": {},
   "outputs": [
    {
     "data": {
      "text/plain": [
       "2.7182815255731922"
      ]
     },
     "execution_count": 50,
     "metadata": {},
     "output_type": "execute_result"
    }
   ],
   "source": [
    "# taylor series\n",
    "class TaylorSeries:\n",
    "    def __init__(self):\n",
    "        self.p=1\n",
    "        self.f=1\n",
    "        self.r=1\n",
    "        self.s=1\n",
    "    def taylorHornerRule(self,x,n):\n",
    "        if n==0:\n",
    "            return self.s\n",
    "        self.s=1+x*self.s/n\n",
    "        return self.taylorHornerRule(x,n-1)\n",
    "    def taylorRec(self,x,n):\n",
    "        if n==0:\n",
    "            return 1\n",
    "        self.r=self.taylorRec(x,n-1)\n",
    "        self.p=self.p*x\n",
    "        self.f=self.f*n\n",
    "        return self.r+self.p/self.f        \n",
    "    def taylor(self,x,n):\n",
    "        return self.taylorHornerRule(x,n)\n",
    "taylor = TaylorSeries()    \n",
    "# taylor.taylor(2,10)\n",
    "\n",
    "def taylorIter(x,n):\n",
    "    s=1\n",
    "    num=1\n",
    "    den=1\n",
    "    for i in range(1,n):\n",
    "        num=num*x\n",
    "        den=den*i\n",
    "        s+=num/den\n",
    "    return s\n",
    "taylorIter(1,10)"
   ]
  },
  {
   "cell_type": "code",
   "execution_count": 61,
   "metadata": {},
   "outputs": [
    {
     "data": {
      "text/plain": [
       "354224848179261915075"
      ]
     },
     "execution_count": 61,
     "metadata": {},
     "output_type": "execute_result"
    }
   ],
   "source": [
    "# fibonacci series\n",
    "def fibIter(n):\n",
    "    t0=0\n",
    "    t1=1\n",
    "    s=1\n",
    "    if n<=1:\n",
    "        return n\n",
    "    for i in range(2,n+1):\n",
    "        s=t0+t1\n",
    "        t0=t1\n",
    "        t1=s\n",
    "    return s\n",
    "def fibRec(n):\n",
    "    if n<=1:\n",
    "        return n\n",
    "    return fibRec(n-2)+fibRec(n-1)\n",
    "\n",
    "def fibRecMemoisation(n):\n",
    "    if n<=1:\n",
    "        memArr[n]=n\n",
    "        return n\n",
    "    else:\n",
    "        if memArr[n-2]==-1:\n",
    "            memArr[n-2]=fibRecMemoisation(n-2)\n",
    "        if memArr[n-1]==-1:\n",
    "            memArr[n-1]=fibRecMemoisation(n-1)\n",
    "        return memArr[n-2]+memArr[n-1]    \n",
    "memArr=[-1 for i in range(1000)]\n",
    "fibRecMemoisation(100)"
   ]
  },
  {
   "cell_type": "code",
   "execution_count": 67,
   "metadata": {},
   "outputs": [
    {
     "data": {
      "text/plain": [
       "6"
      ]
     },
     "execution_count": 67,
     "metadata": {},
     "output_type": "execute_result"
    }
   ],
   "source": [
    "# ncr using recursion\n",
    "def fact(n):\n",
    "    if n==0:\n",
    "        return 1\n",
    "    return fact(n-1)*n\n",
    "def ncr(n,r):\n",
    "    num=fact(n)\n",
    "    den=fact(r)*fact(n-r)\n",
    "    return num/den\n",
    "\n",
    "def NCR(n,r):\n",
    "    if n==r or r==0:\n",
    "        return 1\n",
    "    return NCR(n-1,r-1) + NCR(n-1,r)\n",
    "NCR(4,2)    \n",
    "#     if r==0 or n==r:\n",
    "#         return 1\n",
    "    "
   ]
  },
  {
   "cell_type": "code",
   "execution_count": 73,
   "metadata": {},
   "outputs": [
    {
     "name": "stdout",
     "output_type": "stream",
     "text": [
      "1 3\n",
      "1 2\n",
      "3 2\n",
      "1 3\n",
      "2 1\n",
      "2 3\n",
      "1 3\n"
     ]
    }
   ],
   "source": [
    "# tower of hanoi\n",
    "def TOH(n,a,b,c):\n",
    "    if n>0:\n",
    "        TOH(n-1,a,c,b)\n",
    "        print(a,c)\n",
    "        TOH(n-1,b,a,c)\n",
    "TOH(3,1,2,3)        "
   ]
  },
  {
   "cell_type": "code",
   "execution_count": 15,
   "metadata": {},
   "outputs": [
    {
     "name": "stdout",
     "output_type": "stream",
     "text": [
      "hritik\n",
      "kitirh"
     ]
    }
   ],
   "source": [
    "# Write a recursive function that, given a string s, prints the characters of s in reverse order.\n",
    "# https://web.stanford.edu/class/cs9/lectures/06/Recursion%20Problems.pdf\n",
    "def reverseString(s):\n",
    "    if len(s) == 0:\n",
    "        return \n",
    "    else:\n",
    "        reverseString(s[1:])\n",
    "        print(s[0],end=\"\")\n",
    "\n",
    "# hritik\n",
    "s=input()\n",
    "reverseString(s)"
   ]
  }
 ],
 "metadata": {
  "kernelspec": {
   "display_name": "Python 3",
   "language": "python",
   "name": "python3"
  },
  "language_info": {
   "codemirror_mode": {
    "name": "ipython",
    "version": 3
   },
   "file_extension": ".py",
   "mimetype": "text/x-python",
   "name": "python",
   "nbconvert_exporter": "python",
   "pygments_lexer": "ipython3",
   "version": "3.7.3"
  }
 },
 "nbformat": 4,
 "nbformat_minor": 2
}
