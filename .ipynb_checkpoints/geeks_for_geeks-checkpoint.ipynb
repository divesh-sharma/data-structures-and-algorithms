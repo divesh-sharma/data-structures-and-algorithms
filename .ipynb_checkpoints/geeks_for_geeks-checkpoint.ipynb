{
 "cells": [
  {
   "cell_type": "code",
   "execution_count": 18,
   "metadata": {},
   "outputs": [
    {
     "name": "stdout",
     "output_type": "stream",
     "text": [
      "10 20 4 30\n",
      "20\n",
      "10 4 30  \n"
     ]
    }
   ],
   "source": [
    "# Delete without head pointer \n",
    "class Node:\n",
    "    def __init__(self,data):\n",
    "        self.data=data\n",
    "        self.next=None\n",
    "class LinkedList:\n",
    "    def __init__(self):\n",
    "        self.head=None\n",
    "        self.tail=None\n",
    "    def append(self,value):\n",
    "        new_value=Node(value)\n",
    "        if self.head is None:\n",
    "            self.head= new_value\n",
    "            self.tail= new_value\n",
    "            return\n",
    "        self.tail.next=new_value\n",
    "        self.tail=new_value\n",
    "    def getNode(self,value):\n",
    "        curr_node=self.head\n",
    "        while curr_node.next and curr_node.data != value:\n",
    "            curr_node=curr_node.next\n",
    "        if curr_node.data==value:\n",
    "            return curr_node\n",
    "        else:\n",
    "            return None  \n",
    "    def printList(self):\n",
    "        if self.head is None:\n",
    "            print(' ')\n",
    "            return\n",
    "        curr_node=self.head\n",
    "        while curr_node:\n",
    "            print(curr_node.data,end=\" \")\n",
    "            curr_node= curr_node.next\n",
    "        print(' ')  \n",
    "    def deleteNode(self,value):\n",
    "        curr=self.head\n",
    "        prev=None\n",
    "        if self.head.data==value:\n",
    "            self.head =self.head.next\n",
    "            return\n",
    "        while curr.next is not None:\n",
    "            if curr.data == value and prev is not None:\n",
    "                prev.next=curr.next\n",
    "                return value\n",
    "            prev=curr\n",
    "            curr=curr.next\n",
    "        return None          \n",
    "a=LinkedList()\n",
    "# n=int(input())        \n",
    "nodes=[int(x) for x in input().split()]\n",
    "for i in nodes:\n",
    "    a.append(i)\n",
    "to_del=int(input())    \n",
    "a.deleteNode(to_del)\n",
    "a.printList()\n",
    "# 10 20 4 30\n",
    "# 20"
   ]
  },
  {
   "cell_type": "code",
   "execution_count": null,
   "metadata": {},
   "outputs": [],
   "source": [
    "# Multiply left and right array sum. \n",
    "def multiply (arr, n): \n",
    "    a1=arr[0:n//2]\n",
    "    a2=arr[n//2:]\n",
    "    m1=sum(a1)\n",
    "    m2=sum(a2)\n",
    "    return m1*m2\n",
    "    \n",
    "\n",
    "arr=[int(x)for x in input().split()]\n",
    "n=len(arr)\n",
    "print(multiply(arr,n))"
   ]
  },
  {
   "cell_type": "code",
   "execution_count": 36,
   "metadata": {},
   "outputs": [
    {
     "name": "stdout",
     "output_type": "stream",
     "text": [
      "2\n",
      "3\n"
     ]
    }
   ],
   "source": [
    "# Sum of elements in a matrix\n",
    "def sumOfMatrix(N,M,Grid):\n",
    "    sm=0\n",
    "    for i in range(0,len(grid)):\n",
    "        for j in range(0,len(grid[i])):\n",
    "            sm+=int(grid[i][j])\n",
    "    return sm\n",
    "row=int(input())\n",
    "col=int(input())\n",
    "grid=[[int(x) for x in range(col)]for i in range(row)]"
   ]
  },
  {
   "cell_type": "code",
   "execution_count": 34,
   "metadata": {},
   "outputs": [
    {
     "name": "stdout",
     "output_type": "stream",
     "text": [
      "2\n",
      "1 0 1\n",
      "-8 9 -2\n",
      "1\n"
     ]
    }
   ],
   "source": [
    "n=int(input())\n",
    "grid=[[x for x in input().split()] for i in range(n)]\n",
    "\n",
    "print(sm)"
   ]
  }
 ],
 "metadata": {
  "kernelspec": {
   "display_name": "Python 3",
   "language": "python",
   "name": "python3"
  },
  "language_info": {
   "codemirror_mode": {
    "name": "ipython",
    "version": 3
   },
   "file_extension": ".py",
   "mimetype": "text/x-python",
   "name": "python",
   "nbconvert_exporter": "python",
   "pygments_lexer": "ipython3",
   "version": "3.7.3"
  }
 },
 "nbformat": 4,
 "nbformat_minor": 2
}
