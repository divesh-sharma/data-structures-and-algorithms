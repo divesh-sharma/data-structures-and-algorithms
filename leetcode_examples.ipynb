{
 "cells": [
  {
   "cell_type": "code",
   "execution_count": 10,
   "metadata": {},
   "outputs": [
    {
     "name": "stdout",
     "output_type": "stream",
     "text": [
      "3 3\n",
      "6\n",
      "[0, 1]\n"
     ]
    }
   ],
   "source": [
    "# sum of two \n",
    "def twoSum(nums,target):\n",
    "    result=[]\n",
    "    for i in range(len(nums)):\n",
    "        if abs(target-nums[i]) in nums:\n",
    "            result.append(i)\n",
    "    return result\n",
    "nums=[int(x) for x in input().split()]\n",
    "target=int(input())\n",
    "print(twoSum(nums,target))\n",
    "# 2 7 11 15\n",
    "# 9"
   ]
  },
  {
   "cell_type": "code",
   "execution_count": 27,
   "metadata": {},
   "outputs": [
    {
     "name": "stdout",
     "output_type": "stream",
     "text": [
      "3 4 2\n",
      "4 6 5\n",
      "[7, 0, 7]\n"
     ]
    }
   ],
   "source": [
    "# add two numbers in a separate  list\n",
    "\n",
    "def sumTwoList(a,b):\n",
    "    i=0\n",
    "    j=0\n",
    "    result=[]\n",
    "    carry=0\n",
    "    # 8,9,9,9,0,0,0,1 output\n",
    "    # 9 9 9 9 9 9 9\n",
    "    # 9 9 9 9\n",
    "    # [8, 9, 9, 9, 9, 9, 9]\n",
    "    while i< len(a) and j<len(b):\n",
    "        sm=a[i]+b[j]\n",
    "        if sm>9:            \n",
    "            val=sm%10            \n",
    "            car=sm//10\n",
    "            if carry>0:\n",
    "                val+=carry\n",
    "                result.append(val)\n",
    "            else:\n",
    "                result.append(val)\n",
    "                carry=car\n",
    "        else:\n",
    "            result.append(sm)\n",
    "#             carry=0\n",
    "        i+=1\n",
    "        j+=1\n",
    "        \n",
    "    while i<len(a):\n",
    "        result.append(a[i])\n",
    "        i+=1\n",
    "    while j<len(b):\n",
    "        result.append(b[j])\n",
    "        j+=1\n",
    "    return result\n",
    "a=[int(x)for x in input().split()]\n",
    "b=[int(x)for x in input().split()]\n",
    "print(sumTwoList(a,b))\n"
   ]
  },
  {
   "cell_type": "code",
   "execution_count": 35,
   "metadata": {},
   "outputs": [
    {
     "name": "stdout",
     "output_type": "stream",
     "text": [
      "11234\n",
      "43211\n"
     ]
    }
   ],
   "source": [
    "## reverse a integer\n",
    "def reverseInt(num,res=\"\"):\n",
    "    if num==0:\n",
    "        return res\n",
    "    n=num//10\n",
    "    r=num%10\n",
    "    res+=str(r)\n",
    "    return reverseInt(n,res)\n",
    "#     123\n",
    "num = int(input())    \n",
    "print(reverseInt(num))"
   ]
  },
  {
   "cell_type": "code",
   "execution_count": 1,
   "metadata": {},
   "outputs": [
    {
     "data": {
      "text/plain": [
       "12"
      ]
     },
     "execution_count": 1,
     "metadata": {},
     "output_type": "execute_result"
    }
   ],
   "source": [
    "#  Longest Common Prefix\n",
    "# Input: strs = [\"flower\",\"flow\",\"flight\"]\n",
    "# Output: \"fl\"\n",
    "\n",
    "def longestCommonPrefix(lst):\n",
    "    pass\n",
    "lst=[int(x) for x in input().split()]\n",
    "print(longestCommonPrefix(lst))"
   ]
  },
  {
   "cell_type": "code",
   "execution_count": 4,
   "metadata": {},
   "outputs": [
    {
     "data": {
      "text/plain": [
       "3"
      ]
     },
     "execution_count": 4,
     "metadata": {},
     "output_type": "execute_result"
    }
   ],
   "source": [
    "123%10"
   ]
  },
  {
   "cell_type": "code",
   "execution_count": null,
   "metadata": {},
   "outputs": [],
   "source": []
  }
 ],
 "metadata": {
  "kernelspec": {
   "display_name": "Python 3",
   "language": "python",
   "name": "python3"
  },
  "language_info": {
   "codemirror_mode": {
    "name": "ipython",
    "version": 3
   },
   "file_extension": ".py",
   "mimetype": "text/x-python",
   "name": "python",
   "nbconvert_exporter": "python",
   "pygments_lexer": "ipython3",
   "version": "3.7.3"
  }
 },
 "nbformat": 4,
 "nbformat_minor": 2
}
