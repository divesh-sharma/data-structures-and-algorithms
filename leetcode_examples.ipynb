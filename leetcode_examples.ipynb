{
 "cells": [
  {
   "cell_type": "code",
   "execution_count": 10,
   "metadata": {},
   "outputs": [
    {
     "name": "stdout",
     "output_type": "stream",
     "text": [
      "3 3\n",
      "6\n",
      "[0, 1]\n"
     ]
    }
   ],
   "source": [
    "# sum of two \n",
    "def twoSum(nums,target):\n",
    "    result=[]\n",
    "    for i in range(len(nums)):\n",
    "        if abs(target-nums[i]) in nums:\n",
    "            result.append(i)\n",
    "    return result\n",
    "nums=[int(x) for x in input().split()]\n",
    "target=int(input())\n",
    "print(twoSum(nums,target))\n",
    "# 2 7 11 15\n",
    "# 9"
   ]
  },
  {
   "cell_type": "code",
   "execution_count": 27,
   "metadata": {},
   "outputs": [
    {
     "name": "stdout",
     "output_type": "stream",
     "text": [
      "3 4 2\n",
      "4 6 5\n",
      "[7, 0, 7]\n"
     ]
    }
   ],
   "source": [
    "# add two numbers in a separate  list\n",
    "\n",
    "def sumTwoList(a,b):\n",
    "    i=0\n",
    "    j=0\n",
    "    result=[]\n",
    "    carry=0\n",
    "    # 8,9,9,9,0,0,0,1 output\n",
    "    # 9 9 9 9 9 9 9\n",
    "    # 9 9 9 9\n",
    "    # [8, 9, 9, 9, 9, 9, 9]\n",
    "    while i< len(a) and j<len(b):\n",
    "        sm=a[i]+b[j]\n",
    "        if sm>9:            \n",
    "            val=sm%10            \n",
    "            car=sm//10\n",
    "            if carry>0:\n",
    "                val+=carry\n",
    "                result.append(val)\n",
    "            else:\n",
    "                result.append(val)\n",
    "                carry=car\n",
    "        else:\n",
    "            result.append(sm)\n",
    "#             carry=0\n",
    "        i+=1\n",
    "        j+=1\n",
    "        \n",
    "    while i<len(a):\n",
    "        result.append(a[i])\n",
    "        i+=1\n",
    "    while j<len(b):\n",
    "        result.append(b[j])\n",
    "        j+=1\n",
    "    return result\n",
    "a=[int(x)for x in input().split()]\n",
    "b=[int(x)for x in input().split()]\n",
    "print(sumTwoList(a,b))\n"
   ]
  },
  {
   "cell_type": "code",
   "execution_count": 35,
   "metadata": {},
   "outputs": [
    {
     "name": "stdout",
     "output_type": "stream",
     "text": [
      "11234\n",
      "43211\n"
     ]
    }
   ],
   "source": [
    "## reverse a integer\n",
    "def reverseInt(num,res=\"\"):\n",
    "    if num==0:\n",
    "        return res\n",
    "    n=num//10\n",
    "    r=num%10\n",
    "    res+=str(r)\n",
    "    return reverseInt(n,res)\n",
    "#     123\n",
    "num = int(input())    \n",
    "print(reverseInt(num))"
   ]
  },
  {
   "cell_type": "code",
   "execution_count": 1,
   "metadata": {},
   "outputs": [
    {
     "data": {
      "text/plain": [
       "12"
      ]
     },
     "execution_count": 1,
     "metadata": {},
     "output_type": "execute_result"
    }
   ],
   "source": [
    "#  Longest Common Prefix\n",
    "# Input: strs = [\"flower\",\"flow\",\"flight\"]\n",
    "# Output: \"fl\"\n",
    "\n",
    "def longestCommonPrefix(lst):\n",
    "    pass\n",
    "lst=[int(x) for x in input().split()]\n",
    "print(longestCommonPrefix(lst))"
   ]
  },
  {
   "cell_type": "code",
   "execution_count": 75,
   "metadata": {},
   "outputs": [
    {
     "name": "stdout",
     "output_type": "stream",
     "text": [
      "PAYPALISHIRING\n",
      "3\n",
      "PAHNAPLSIIGYIR"
     ]
    }
   ],
   "source": [
    "# ZigZag Conversion\n",
    "\n",
    "def zigZagConversion(s,row):\n",
    "    if(row == 1 or len(s)<row):\n",
    "        return s\n",
    "    rows = [[] for i in range(row)]\n",
    "    currentRow = 0\n",
    "    reverse = False\n",
    "    for i in range(len(s)):\n",
    "#         PAYPALISHIRING\n",
    "        rows[currentRow].append(s[i])\n",
    "        if reverse is False:\n",
    "            currentRow+=1\n",
    "        else:\n",
    "            currentRow-=1\n",
    "        if(currentRow == row-1 or currentRow==0):\n",
    "            reverse = not(reverse)\n",
    "    return rows\n",
    "arr = input()\n",
    "row=int(input())\n",
    "result =zigZagConversion(arr,row)\n",
    "for i in result:\n",
    "    for j in i:\n",
    "        print(j,end='')"
   ]
  },
  {
   "cell_type": "code",
   "execution_count": 82,
   "metadata": {},
   "outputs": [
    {
     "name": "stdout",
     "output_type": "stream",
     "text": [
      "ghajklsd\n",
      "['ghajklsd']\n"
     ]
    }
   ],
   "source": [
    "def longestPalindrome(string):\n",
    "    print(string)\n",
    "string = input().split()\n",
    "longestPalindrome(string)"
   ]
  },
  {
   "cell_type": "code",
   "execution_count": 194,
   "metadata": {},
   "outputs": [
    {
     "name": "stdout",
     "output_type": "stream",
     "text": [
      "5\n"
     ]
    }
   ],
   "source": [
    "# Remove Duplicates from Sorted Array\n",
    "def removeDuplicates(nums):\n",
    "    n=len(nums)\n",
    "    a=nums\n",
    "    for i in range(n-1,-1,-1):\n",
    "        if i != 0 and nums[i]==nums[i-1]:\n",
    "            del nums[i]\n",
    "    return len(nums)\n",
    "print(removeDuplicates([0,0,0,1,1,1,2,2,3,3,4]))"
   ]
  },
  {
   "cell_type": "code",
   "execution_count": 127,
   "metadata": {},
   "outputs": [
    {
     "name": "stdout",
     "output_type": "stream",
     "text": [
      "[]\n"
     ]
    }
   ],
   "source": [
    "# [-1,0,1,2,-1,-4]\n",
    "def threeSum_n3(lst):\n",
    "    n=len(lst)\n",
    "    result=[]\n",
    "    return result\n",
    "lst=[-1,0,1,2,-1,-4]\n",
    "print(threeSum_n3(lst))"
   ]
  },
  {
   "cell_type": "code",
   "execution_count": 202,
   "metadata": {},
   "outputs": [
    {
     "name": "stdout",
     "output_type": "stream",
     "text": [
      "2\n",
      "5\n"
     ]
    }
   ],
   "source": [
    "# Remove Element\n",
    "def removeElement(nums,val):\n",
    "    for i in range(len(nums)-1,-1,-1):\n",
    "        if nums[i]==val:\n",
    "            del nums[i]\n",
    "    return len(nums)        \n",
    "# nums = [int(x) for x in input()]\n",
    "val=int(input())\n",
    "print(removeElement([0,1,2,2,3,0,4,2],val))"
   ]
  },
  {
   "cell_type": "code",
   "execution_count": 39,
   "metadata": {},
   "outputs": [
    {
     "name": "stdout",
     "output_type": "stream",
     "text": [
      "[1, 3, 12, 0, 0]\n"
     ]
    }
   ],
   "source": [
    "#  Move Zeroes\n",
    "def moveZeroes(nums):\n",
    "    a=0\n",
    "    b=1\n",
    "    for i in range(len(nums)):\n",
    "        if a<len(nums) and b<len(nums): \n",
    "            if nums[a]==0 and nums[b]==0:\n",
    "                b+=1\n",
    "            elif nums[a]==0:\n",
    "                temp=nums[a]\n",
    "                nums[a]=nums[b]\n",
    "                nums[b]=temp  \n",
    "                a+=1\n",
    "                b+=1\n",
    "            else:\n",
    "                a+=1\n",
    "                b+=1   \n",
    "    return nums\n",
    "# nums=[int(x) for x in input().split()]\n",
    "# a=[0,1,0,3,12]\n",
    "# a=[4,0,2,0,0,9,3,0,0,9,0,0]\n",
    "print(moveZeroes([0,1,0,3,12]))"
   ]
  },
  {
   "cell_type": "code",
   "execution_count": 12,
   "metadata": {},
   "outputs": [
    {
     "name": "stdout",
     "output_type": "stream",
     "text": [
      "hello\n",
      "lll\n",
      "-1\n"
     ]
    }
   ],
   "source": [
    "# Implement strStr()\n",
    "def strStr(haystack,needle):\n",
    "    index=-1\n",
    "    needleLen = len(needle)\n",
    "    if(haystack==needle):\n",
    "        return 0\n",
    "    for i in range(len(haystack)):\n",
    "        if(haystack[i:i+needleLen] == needle):\n",
    "            index = i\n",
    "            break\n",
    "    return index        \n",
    "haystack=input()\n",
    "needle=input()\n",
    "print(strStr(haystack,needle))\n",
    "# Input: haystack = \"hello\", needle = \"ll\"\n",
    "# Output: 2    \n"
   ]
  },
  {
   "cell_type": "code",
   "execution_count": 11,
   "metadata": {},
   "outputs": [
    {
     "data": {
      "text/plain": [
       "'ll'"
      ]
     },
     "execution_count": 11,
     "metadata": {},
     "output_type": "execute_result"
    }
   ],
   "source": []
  }
 ],
 "metadata": {
  "kernelspec": {
   "display_name": "Python 3",
   "language": "python",
   "name": "python3"
  },
  "language_info": {
   "codemirror_mode": {
    "name": "ipython",
    "version": 3
   },
   "file_extension": ".py",
   "mimetype": "text/x-python",
   "name": "python",
   "nbconvert_exporter": "python",
   "pygments_lexer": "ipython3",
   "version": "3.7.3"
  }
 },
 "nbformat": 4,
 "nbformat_minor": 2
}
