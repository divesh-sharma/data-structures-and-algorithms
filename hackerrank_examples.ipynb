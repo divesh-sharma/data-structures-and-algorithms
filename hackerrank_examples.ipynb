{
 "cells": [
  {
   "cell_type": "code",
   "execution_count": 1,
   "metadata": {},
   "outputs": [
    {
     "name": "stdout",
     "output_type": "stream",
     "text": [
      "5 6 7\n",
      "3 6 10\n",
      "1   1\n"
     ]
    }
   ],
   "source": [
    "# Compare the Triplets\n",
    "\n",
    "\"\"\"    If a[i] > b[i], then Alice is awarded 1 point.\n",
    "    If a[i] < b[i], then Bob is awarded 1 point.\n",
    "    If a[i] = b[i], then neither person receives a point.\n",
    "\"\"\"\n",
    "def compareTriplets(a, b):\n",
    "    aPoint=0\n",
    "    bPoint=0\n",
    "#     it can be len(b) also\n",
    "    for i in range(len(a)):\n",
    "        if a[i]>b[i]:\n",
    "            aPoint+=1\n",
    "        elif a[i]<b[i]:\n",
    "            bPoint+=1\n",
    "    return aPoint,bPoint      \n",
    "a=[int(x) for x in input().split()]\n",
    "b=[int(x) for x in input().split()]\n",
    "pointa,pointb=compareTriplets(a,b)\n",
    "print(pointa,\"\",pointb)"
   ]
  },
  {
   "cell_type": "code",
   "execution_count": 23,
   "metadata": {},
   "outputs": [
    {
     "name": "stdout",
     "output_type": "stream",
     "text": [
      "3\n",
      "1 2 3\n",
      "4 5 6\n",
      "9 8 9\n",
      "2\n"
     ]
    }
   ],
   "source": [
    "# Diagonal Difference\n",
    "def diagonalDifference(arr):\n",
    "    lsum=0\n",
    "    rsum=0\n",
    "    for i in range(len(arr)):\n",
    "        for j in range(len(arr[i])):\n",
    "            if i+j==n-1:\n",
    "                rsum+=arr[i][j]\n",
    "    for i in range(len(arr)):\n",
    "        for j in range(len(arr[i])):\n",
    "            if i==j:\n",
    "                lsum+=arr[i][j]\n",
    "                \n",
    "    return abs(lsum-rsum)           \n",
    "                \n",
    "n=int(input())\n",
    "arr = [[int(j) for j in input().split()]for i in range(n)]\n",
    "print(diagonalDifference(arr))"
   ]
  },
  {
   "cell_type": "code",
   "execution_count": 31,
   "metadata": {},
   "outputs": [
    {
     "name": "stdout",
     "output_type": "stream",
     "text": [
      "0 0 -1 1 1\n",
      "0.4\n",
      "0.2\n",
      "0.4\n"
     ]
    }
   ],
   "source": [
    "# Plus Minus\n",
    "\n",
    "def plusMinus(arr):\n",
    "    pos=0\n",
    "    n=len(arr)\n",
    "    neg=0\n",
    "    zero=0\n",
    "    for i in range(n):\n",
    "        if arr[i]>0:\n",
    "            pos+=1\n",
    "        elif arr[i]<0:\n",
    "            neg+=1\n",
    "        else:\n",
    "            zero+=1\n",
    "    print(round(pos/n,6))\n",
    "    print(round(neg/n,6))\n",
    "    print(round(zero/n,6))\n",
    "arr = list(map(int, input().rstrip().split()))\n",
    "plusMinus(arr)"
   ]
  },
  {
   "cell_type": "code",
   "execution_count": 27,
   "metadata": {},
   "outputs": [
    {
     "data": {
      "text/plain": [
       "0.333"
      ]
     },
     "execution_count": 27,
     "metadata": {},
     "output_type": "execute_result"
    }
   ],
   "source": []
  }
 ],
 "metadata": {
  "kernelspec": {
   "display_name": "Python 3",
   "language": "python",
   "name": "python3"
  },
  "language_info": {
   "codemirror_mode": {
    "name": "ipython",
    "version": 3
   },
   "file_extension": ".py",
   "mimetype": "text/x-python",
   "name": "python",
   "nbconvert_exporter": "python",
   "pygments_lexer": "ipython3",
   "version": "3.7.3"
  }
 },
 "nbformat": 4,
 "nbformat_minor": 2
}
