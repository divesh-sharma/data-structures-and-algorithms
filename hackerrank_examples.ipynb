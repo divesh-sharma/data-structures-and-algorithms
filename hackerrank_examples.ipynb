{
 "cells": [
  {
   "cell_type": "code",
   "execution_count": 1,
   "metadata": {},
   "outputs": [
    {
     "name": "stdout",
     "output_type": "stream",
     "text": [
      "5 6 7\n",
      "3 6 10\n",
      "1   1\n"
     ]
    }
   ],
   "source": [
    "# Compare the Triplets\n",
    "\n",
    "\"\"\"    If a[i] > b[i], then Alice is awarded 1 point.\n",
    "    If a[i] < b[i], then Bob is awarded 1 point.\n",
    "    If a[i] = b[i], then neither person receives a point.\n",
    "\"\"\"\n",
    "def compareTriplets(a, b):\n",
    "    aPoint=0\n",
    "    bPoint=0\n",
    "#     it can be len(b) also\n",
    "    for i in range(len(a)):\n",
    "        if a[i]>b[i]:\n",
    "            aPoint+=1\n",
    "        elif a[i]<b[i]:\n",
    "            bPoint+=1\n",
    "    return aPoint,bPoint      \n",
    "a=[int(x) for x in input().split()]\n",
    "b=[int(x) for x in input().split()]\n",
    "pointa,pointb=compareTriplets(a,b)\n",
    "print(pointa,\"\",pointb)"
   ]
  },
  {
   "cell_type": "code",
   "execution_count": 23,
   "metadata": {},
   "outputs": [
    {
     "name": "stdout",
     "output_type": "stream",
     "text": [
      "3\n",
      "1 2 3\n",
      "4 5 6\n",
      "9 8 9\n",
      "2\n"
     ]
    }
   ],
   "source": [
    "# Diagonal Difference\n",
    "def diagonalDifference(arr):\n",
    "    lsum=0\n",
    "    rsum=0\n",
    "    for i in range(len(arr)):\n",
    "        for j in range(len(arr[i])):\n",
    "            if i+j==n-1:\n",
    "                rsum+=arr[i][j]\n",
    "    for i in range(len(arr)):\n",
    "        for j in range(len(arr[i])):\n",
    "            if i==j:\n",
    "                lsum+=arr[i][j]\n",
    "                \n",
    "    return abs(lsum-rsum)           \n",
    "                \n",
    "n=int(input())\n",
    "arr = [[int(j) for j in input().split()]for i in range(n)]\n",
    "print(diagonalDifference(arr))"
   ]
  },
  {
   "cell_type": "code",
   "execution_count": 31,
   "metadata": {},
   "outputs": [
    {
     "name": "stdout",
     "output_type": "stream",
     "text": [
      "0 0 -1 1 1\n",
      "0.4\n",
      "0.2\n",
      "0.4\n"
     ]
    }
   ],
   "source": [
    "# Plus Minus\n",
    "\n",
    "def plusMinus(arr):\n",
    "    pos=0\n",
    "    n=len(arr)\n",
    "    neg=0\n",
    "    zero=0\n",
    "    for i in range(n):\n",
    "        if arr[i]>0:\n",
    "            pos+=1\n",
    "        elif arr[i]<0:\n",
    "            neg+=1\n",
    "        else:\n",
    "            zero+=1\n",
    "    print(round(pos/n,6))\n",
    "    print(round(neg/n,6))\n",
    "    print(round(zero/n,6))\n",
    "arr = list(map(int, input().rstrip().split()))\n",
    "plusMinus(arr)"
   ]
  },
  {
   "cell_type": "code",
   "execution_count": 67,
   "metadata": {},
   "outputs": [
    {
     "name": "stdout",
     "output_type": "stream",
     "text": [
      "1 2 3 4 5\n",
      "10 14\n"
     ]
    }
   ],
   "source": [
    "# Mini-Max Sum\n",
    "def miniMaxSum(arr):\n",
    "    c=0\n",
    "    sm=[]\n",
    "    for i in range(len(arr)):\n",
    "#         1 2 3 4 5 \n",
    "        temp=0\n",
    "        for j in range(i,len(arr)-1):\n",
    "            temp+=arr[j]\n",
    "        sm.append(temp)\n",
    "        arr.append(arr[i])    \n",
    "            \n",
    "    print(min(sm),end=\" \")\n",
    "    print(max(sm))\n",
    "\n",
    "arr = [int(x) for x in input().split()]\n",
    "miniMaxSum(arr)"
   ]
  },
  {
   "cell_type": "code",
   "execution_count": 80,
   "metadata": {},
   "outputs": [
    {
     "name": "stdout",
     "output_type": "stream",
     "text": [
      "4\n",
      "3 2 1 3\n",
      "2\n"
     ]
    }
   ],
   "source": [
    "# Birthday Cake Candles\n",
    "\n",
    "def birthdayCakeCandles(candles):\n",
    "    occurence={}\n",
    "    for i in candles:\n",
    "        if i in occurence:\n",
    "            occurence[i]=occurence[i]+1\n",
    "        else:            \n",
    "            occurence[i]=1\n",
    "    mx=-111\n",
    "    for i in occurence:\n",
    "        if occurence[i]>mx:\n",
    "            mx=occurence[i]\n",
    "    return mx        \n",
    "n=int(input())\n",
    "candles=[int(x) for x in input().split()]\n",
    "print(birthdayCakeCandles(candles))"
   ]
  },
  {
   "cell_type": "code",
   "execution_count": 62,
   "metadata": {},
   "outputs": [
    {
     "name": "stdout",
     "output_type": "stream",
     "text": [
      "6\n",
      "     #\n",
      "    ##\n",
      "   ###\n",
      "  ####\n",
      " #####\n",
      "######\n"
     ]
    }
   ],
   "source": [
    "#### Staircase\n",
    "def staircase(n):\n",
    "    i=0\n",
    "    j=0\n",
    "    s=0\n",
    "    while i<n:\n",
    "        j=0\n",
    "        s=0\n",
    "        while s<n-i-1:\n",
    "            print(' ',end=\"\")\n",
    "            s+=1\n",
    "        while j<=i:\n",
    "            print('#',end=\"\")\n",
    "            j+=1\n",
    "        print()    \n",
    "        i+=1\n",
    "        \n",
    "            \n",
    "n=int(input())\n",
    "staircase(n)"
   ]
  },
  {
   "cell_type": "code",
   "execution_count": 113,
   "metadata": {},
   "outputs": [
    {
     "name": "stdout",
     "output_type": "stream",
     "text": [
      "07:05:45PM\n",
      "19:05:45\n"
     ]
    }
   ],
   "source": [
    "# Time Conversion\n",
    "def timeConversion(s):\n",
    "    hours=['13','14','15','16','17','18','19','20','21','22','23','24']\n",
    "    indexes={'01':1,'02':2,'03':3,'04':4,'05':5,'06':6,'07':7,'08':8,'09':9,'10':10,'11':11,'12':12}\n",
    "    if 'PM' in s or 'pm' in s:\n",
    "        sm=indexes[s[:2]]\n",
    "        change=hours[sm-1]\n",
    "        res=s[:len(s)-2]\n",
    "        res.replace(s[:2],change) \n",
    "        return res\n",
    "    else:\n",
    "        return s[:len(s)-2]\n",
    "s=input()\n",
    "print(timeConversion(s))\n",
    "\n"
   ]
  },
  {
   "cell_type": "code",
   "execution_count": 89,
   "metadata": {},
   "outputs": [
    {
     "data": {
      "text/plain": [
       "{'01': 1,\n",
       " '02': 2,\n",
       " '03': 3,\n",
       " '04': 4,\n",
       " '05': 5,\n",
       " '06': 6,\n",
       " '07': 7,\n",
       " '08': 8,\n",
       " '09': 9,\n",
       " '10': 10,\n",
       " '11': 11,\n",
       " '12': 12}"
      ]
     },
     "execution_count": 89,
     "metadata": {},
     "output_type": "execute_result"
    }
   ],
   "source": [
    "indexes={'01':1,'02':2,'03':3,'04':4,'05':5,'06':6,'07':7,'08':8,'09':9,'10':10,'11':11,'12':12}\n",
    "indexes"
   ]
  }
 ],
 "metadata": {
  "kernelspec": {
   "display_name": "Python 3",
   "language": "python",
   "name": "python3"
  },
  "language_info": {
   "codemirror_mode": {
    "name": "ipython",
    "version": 3
   },
   "file_extension": ".py",
   "mimetype": "text/x-python",
   "name": "python",
   "nbconvert_exporter": "python",
   "pygments_lexer": "ipython3",
   "version": "3.7.3"
  }
 },
 "nbformat": 4,
 "nbformat_minor": 2
}
